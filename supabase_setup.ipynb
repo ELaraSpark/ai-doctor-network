{
 "cells": [
  {
   "cell_type": "markdown",
   "id": "3404d9e6",
   "metadata": {},
   "source": [
    "# Set Up Supabase Client\n",
    "Initialize the Supabase client using the provided API URL and key."
   ]
  },
  {
   "cell_type": "code",
   "execution_count": null,
   "id": "5c8c30ed",
   "metadata": {},
   "outputs": [],
   "source": [
    "# Set Up Supabase Client\n",
    "from supabase import create_client, Client\n",
    "\n",
    "# Replace with your Supabase project details\n",
    "SUPABASE_URL = \"https://your-supabase-url.supabase.co\"\n",
    "SUPABASE_KEY = \"your-supabase-key\"\n",
    "\n",
    "supabase: Client = create_client(SUPABASE_URL, SUPABASE_KEY)\n",
    "print(\"Supabase client initialized successfully.\")"
   ]
  },
  {
   "cell_type": "markdown",
   "id": "87f72dd5",
   "metadata": {},
   "source": [
    "# Insert Data into Patients Table\n",
    "Create a function to insert a new patient into the `patients` table with fields for name, email, and date of birth."
   ]
  },
  {
   "cell_type": "code",
   "execution_count": null,
   "id": "bccd9a71",
   "metadata": {},
   "outputs": [],
   "source": [
    "# Insert Data into Patients Table\n",
    "def insert_patient(name: str, email: str, date_of_birth: str):\n",
    "    response = supabase.table(\"patients\").insert({\n",
    "        \"name\": name,\n",
    "        \"email\": email,\n",
    "        \"date_of_birth\": date_of_birth\n",
    "    }).execute()\n",
    "    if response.get(\"status_code\") == 201:\n",
    "        print(\"Patient inserted successfully:\", response.get(\"data\"))\n",
    "    else:\n",
    "        print(\"Error inserting patient:\", response.get(\"error\"))\n",
    "\n",
    "# Example usage\n",
    "insert_patient(\"John Doe\", \"johndoe@example.com\", \"1990-01-01\")"
   ]
  },
  {
   "cell_type": "markdown",
   "id": "9a420083",
   "metadata": {},
   "source": [
    "# Fetch Data from Patients Table\n",
    "Create a React component that fetches and displays a list of patients using Supabase. Use `useEffect` for fetching and `useState` to store the data."
   ]
  },
  {
   "cell_type": "code",
   "execution_count": null,
   "id": "516c451c",
   "metadata": {
    "vscode": {
     "languageId": "javascript"
    }
   },
   "outputs": [],
   "source": [
    "/* Fetch Data from Patients Table */\n",
    "import React, { useState, useEffect } from \"react\";\n",
    "import { createClient } from \"@supabase/supabase-js\";\n",
    "\n",
    "const SUPABASE_URL = \"https://your-supabase-url.supabase.co\";\n",
    "const SUPABASE_KEY = \"your-supabase-key\";\n",
    "const supabase = createClient(SUPABASE_URL, SUPABASE_KEY);\n",
    "\n",
    "const PatientsList = () => {\n",
    "  const [patients, setPatients] = useState([]);\n",
    "\n",
    "  useEffect(() => {\n",
    "    const fetchPatients = async () => {\n",
    "      const { data, error } = await supabase.from(\"patients\").select(\"*\");\n",
    "      if (error) {\n",
    "        console.error(\"Error fetching patients:\", error);\n",
    "      } else {\n",
    "        setPatients(data);\n",
    "      }\n",
    "    };\n",
    "\n",
    "    fetchPatients();\n",
    "  }, []);\n",
    "\n",
    "  return (\n",
    "    <div>\n",
    "      <h1>Patients List</h1>\n",
    "      <ul>\n",
    "        {patients.map((patient) => (\n",
    "          <li key={patient.id}>\n",
    "            {patient.name} - {patient.email} - {patient.date_of_birth}\n",
    "          </li>\n",
    "        ))}\n",
    "      </ul>\n",
    "    </div>\n",
    "  );\n",
    "};\n",
    "\n",
    "export default PatientsList;"
   ]
  },
  {
   "cell_type": "markdown",
   "id": "c8729a93",
   "metadata": {},
   "source": [
    "# Add Authentication with Supabase\n",
    "Implement email/password authentication using Supabase Auth. Create login and register forms, and set up session persistence with `onAuthStateChange` and `useEffect`."
   ]
  },
  {
   "cell_type": "code",
   "execution_count": null,
   "id": "5d1dee5b",
   "metadata": {
    "vscode": {
     "languageId": "javascript"
    }
   },
   "outputs": [],
   "source": [
    "/* Add Authentication with Supabase */\n",
    "import React, { useState, useEffect } from \"react\";\n",
    "import { createClient } from \"@supabase/supabase-js\";\n",
    "\n",
    "const SUPABASE_URL = \"https://your-supabase-url.supabase.co\";\n",
    "const SUPABASE_KEY = \"your-supabase-key\";\n",
    "const supabase = createClient(SUPABASE_URL, SUPABASE_KEY);\n",
    "\n",
    "const Auth = () => {\n",
    "  const [email, setEmail] = useState(\"\");\n",
    "  const [password, setPassword] = useState(\"\");\n",
    "  const [session, setSession] = useState(null);\n",
    "\n",
    "  useEffect(() => {\n",
    "    const { data: authListener } = supabase.auth.onAuthStateChange(\n",
    "      (event, session) => {\n",
    "        setSession(session);\n",
    "      }\n",
    "    );\n",
    "\n",
    "    return () => {\n",
    "      authListener.unsubscribe();\n",
    "    };\n",
    "  }, []);\n",
    "\n",
    "  const handleLogin = async () => {\n",
    "    const { error } = await supabase.auth.signInWithPassword({ email, password });\n",
    "    if (error) console.error(\"Error logging in:\", error);\n",
    "  };\n",
    "\n",
    "  const handleRegister = async () => {\n",
    "    const { error } = await supabase.auth.signUp({ email, password });\n",
    "    if (error) console.error(\"Error registering:\", error);\n",
    "  };\n",
    "\n",
    "  return (\n",
    "    <div>\n",
    "      <h1>Authentication</h1>\n",
    "      <input\n",
    "        type=\"email\"\n",
    "        placeholder=\"Email\"\n",
    "        value={email}\n",
    "        onChange={(e) => setEmail(e.target.value)}\n",
    "      />\n",
    "      <input\n",
    "        type=\"password\"\n",
    "        placeholder=\"Password\"\n",
    "        value={password}\n",
    "        onChange={(e) => setPassword(e.target.value)}\n",
    "      />\n",
    "      <button onClick={handleLogin}>Login</button>\n",
    "      <button onClick={handleRegister}>Register</button>\n",
    "    </div>\n",
    "  );\n",
    "};\n",
    "\n",
    "export default Auth;"
   ]
  },
  {
   "cell_type": "markdown",
   "id": "52c9b309",
   "metadata": {},
   "source": [
    "# Set Up Realtime Subscription\n",
    "Use Supabase's `.channel()` API to set up a realtime subscription to the `appointments` table and log updates to the console when a new appointment is created."
   ]
  },
  {
   "cell_type": "code",
   "execution_count": null,
   "id": "b02da2e9",
   "metadata": {},
   "outputs": [],
   "source": [
    "# Set Up Realtime Subscription\n",
    "def setup_realtime_subscription():\n",
    "    def callback(payload):\n",
    "        print(\"Change received:\", payload)\n",
    "\n",
    "    channel = supabase.channel(\"appointments\")\n",
    "    channel.on(\"postgres_changes\", {\"event\": \"INSERT\", \"schema\": \"public\", \"table\": \"appointments\"}, callback)\n",
    "    channel.subscribe()\n",
    "\n",
    "# Example usage\n",
    "setup_realtime_subscription()"
   ]
  }
 ],
 "metadata": {
  "language_info": {
   "name": "python"
  }
 },
 "nbformat": 4,
 "nbformat_minor": 5
}
